{
  "nbformat": 4,
  "nbformat_minor": 0,
  "metadata": {
    "colab": {
      "provenance": [],
      "authorship_tag": "ABX9TyNxzlkM5WtnUHCRG/dXDcPO",
      "include_colab_link": true
    },
    "kernelspec": {
      "name": "python3",
      "display_name": "Python 3"
    },
    "language_info": {
      "name": "python"
    }
  },
  "cells": [
    {
      "cell_type": "markdown",
      "metadata": {
        "id": "view-in-github",
        "colab_type": "text"
      },
      "source": [
        "<a href=\"https://colab.research.google.com/github/yanil-03/Machine-Learning/blob/main/CNN(theory).ipynb\" target=\"_parent\"><img src=\"https://colab.research.google.com/assets/colab-badge.svg\" alt=\"Open In Colab\"/></a>"
      ]
    },
    {
      "cell_type": "code",
      "execution_count": 1,
      "metadata": {
        "id": "RwVwOH7T2w73"
      },
      "outputs": [],
      "source": [
        "# CNN --- > Convolutional Neural Networks\n",
        "# It is used for image related processing .\n",
        "\n",
        "# Image --- > pixels ----->(0-255)px\n",
        "# OPx -- > black\n",
        "# 255 Px --- > white\n",
        "\n",
        "# black & white Images ---- > height , width\n",
        "# colorfull Images --- > height , width, color_channel(RGB)\n",
        "# We can convert our images into grayscale images . 127.5 px\n",
        "\n",
        "# Im1 = (120,130,3)\n",
        "# Im2 = (130,150,3)\n",
        "# Padding ----> Add zeros in image matrix .\n",
        "# Pre-padding----- > It will add zeros in startimg of an matrix .\n",
        "# Post- padding -----> it will add zeroes in end of an matrix.\n"
      ]
    },
    {
      "cell_type": "code",
      "source": [
        "import numpy as np"
      ],
      "metadata": {
        "id": "XkO5Lck22x5P"
      },
      "execution_count": 2,
      "outputs": []
    },
    {
      "cell_type": "code",
      "source": [
        "a = np.random.randint(1,12,9).reshape(3,3)\n",
        "#a"
      ],
      "metadata": {
        "id": "BR-piJpB2z9H"
      },
      "execution_count": 3,
      "outputs": []
    },
    {
      "cell_type": "code",
      "source": [
        "# example array --- array([[10, 9, 6],\n",
        " #                       [ 6, 10, 5],\n",
        "  #                      [ 1, 11, 1]])"
      ],
      "metadata": {
        "id": "WA5G3CKc24vF"
      },
      "execution_count": 4,
      "outputs": []
    },
    {
      "cell_type": "code",
      "source": [
        "# Pooling layers --- > This is regularization technique in which it will reduce overfitting\n",
        "# from data .\n",
        "# MaxPooling --- >"
      ],
      "metadata": {
        "id": "RKhqQBtZ29-M"
      },
      "execution_count": 5,
      "outputs": []
    },
    {
      "cell_type": "code",
      "source": [
        "\n",
        "# stride = 1 , filter/kernel = (2,2)\n",
        "\n",
        "# step-1 [10,9,6,10]    ---- > [10] [6]\n",
        "# step-2 [9,6,10,5]     ---->  [10] [5]\n",
        "# step-3 [6,10,1,11]    ---- > [11] [1]\n",
        "# step-4 [10,5,11,1]     --- > [11] [1]\n",
        "\n",
        "# MaxPooling layer --- > [10,10,11,11]\n",
        "# MinPooling layer ---- > [6,5,1,1]\n",
        "# GlobalAveragePooling Layer\n",
        ""
      ],
      "metadata": {
        "id": "qGchOeyy3AA6"
      },
      "execution_count": 6,
      "outputs": []
    },
    {
      "cell_type": "code",
      "source": [
        "\n",
        "# Workflow of CNN\n",
        "\n",
        "# Data Ingestion---- > Data Cleaning and Preprocessing --- >\n",
        "# Model Sequential(\n",
        "# CNN_layer1 ,\n",
        "# CNN_layer2,\n",
        "# Flatten layer ,\n",
        "# Dense layer\n",
        "# )\n",
        "\n",
        "# Model.compile(loss . optimizers . metrics)\n",
        "# Model.training\n",
        "# Model.Evaluation\n"
      ],
      "metadata": {
        "id": "mcILrHgJ3CHh"
      },
      "execution_count": 7,
      "outputs": []
    },
    {
      "cell_type": "code",
      "source": [],
      "metadata": {
        "id": "FEf6Kl363E7w"
      },
      "execution_count": null,
      "outputs": []
    }
  ]
}