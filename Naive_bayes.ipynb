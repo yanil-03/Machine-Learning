{
  "nbformat": 4,
  "nbformat_minor": 0,
  "metadata": {
    "colab": {
      "provenance": [],
      "authorship_tag": "ABX9TyO8M91qPdoP5F5R9E42wPQB",
      "include_colab_link": true
    },
    "kernelspec": {
      "name": "python3",
      "display_name": "Python 3"
    },
    "language_info": {
      "name": "python"
    }
  },
  "cells": [
    {
      "cell_type": "markdown",
      "metadata": {
        "id": "view-in-github",
        "colab_type": "text"
      },
      "source": [
        "<a href=\"https://colab.research.google.com/github/yanil-03/Machine-Learning/blob/main/Naive_bayes.ipynb\" target=\"_parent\"><img src=\"https://colab.research.google.com/assets/colab-badge.svg\" alt=\"Open In Colab\"/></a>"
      ]
    },
    {
      "cell_type": "code",
      "execution_count": 1,
      "metadata": {
        "id": "OimhBAq_Glzw"
      },
      "outputs": [],
      "source": [
        "# NAIVEbayes Classification\n",
        "# this is supervised ML algorithm that say our input features are independent of each other and it is associated by bayes theorem"
      ]
    },
    {
      "cell_type": "code",
      "source": [
        "from sklearn.feature_extraction.text import CountVectorizer\n",
        "from sklearn.naive_bayes import MultinomialNB\n",
        "from sklearn.pipeline import make_pipeline\n",
        "\n",
        "# dataset\n",
        "texts = [\n",
        "    \"buy cheap meds now\",\n",
        "    \"cheap pills online\",\n",
        "    \"get discount now\",\n",
        "    \"meeting at office\",\n",
        "    \"project discussion\",\n",
        "    \"schedule a meeting\"\n",
        "]\n",
        "\n",
        "labels = [\"Spam\", \"Spam\", \"Spam\", \"Not Spam\", \"Not Spam\", \"Not Spam\"]\n",
        "\n",
        "# Create a model pipeline\n",
        "model = make_pipeline(CountVectorizer(), MultinomialNB(alpha=1.0))  # Laplace smoothing with alpha=1\n",
        "\n",
        "# Train the model\n",
        "model.fit(texts, labels)\n",
        "\n",
        "# Test messages\n",
        "test_messages = [\n",
        "    \"cheap meds now\",\n",
        "    \"schedule a meeting\",\n",
        "    \"project schedule\",\n",
        "    \"discount online pills\",\n",
        "    \"meeting now\"\n",
        "]\n",
        "\n",
        "# Make predictions\n",
        "predicted = model.predict(test_messages)\n",
        "probs = model.predict_proba(test_messages)\n",
        "\n",
        "# Display results\n",
        "for msg, label, prob in zip(test_messages, predicted, probs):\n",
        "    print(f\"Message: '{msg}'\")\n",
        "    print(f\"Predicted Class: {label}\")\n",
        "    print(f\"Probabilities: Spam={prob[model.classes_.tolist().index('Spam')]:.2f}, Not Spam={prob[model.classes_.tolist().index('Not Spam')]:.2f}\\n\")\n"
      ],
      "metadata": {
        "colab": {
          "base_uri": "https://localhost:8080/"
        },
        "id": "Hd4r3VEkHZ_9",
        "outputId": "acc494fb-4bf7-4855-f9b5-f30749ae670d"
      },
      "execution_count": 2,
      "outputs": [
        {
          "output_type": "stream",
          "name": "stdout",
          "text": [
            "Message: 'cheap meds now'\n",
            "Predicted Class: Spam\n",
            "Probabilities: Spam=0.92, Not Spam=0.08\n",
            "\n",
            "Message: 'schedule a meeting'\n",
            "Predicted Class: Not Spam\n",
            "Probabilities: Spam=0.11, Not Spam=0.89\n",
            "\n",
            "Message: 'project schedule'\n",
            "Predicted Class: Not Spam\n",
            "Probabilities: Spam=0.16, Not Spam=0.84\n",
            "\n",
            "Message: 'discount online pills'\n",
            "Predicted Class: Spam\n",
            "Probabilities: Spam=0.84, Not Spam=0.16\n",
            "\n",
            "Message: 'meeting now'\n",
            "Predicted Class: Not Spam\n",
            "Probabilities: Spam=0.43, Not Spam=0.57\n",
            "\n"
          ]
        }
      ]
    }
  ]
}